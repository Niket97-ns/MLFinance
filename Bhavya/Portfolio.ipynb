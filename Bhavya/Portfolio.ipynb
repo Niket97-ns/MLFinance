{
 "cells": [
  {
   "cell_type": "code",
   "execution_count": 1,
   "metadata": {
    "collapsed": true
   },
   "outputs": [],
   "source": [
    "from pandas_datareader import data\n",
    "import matplotlib.pyplot as plt\n",
    "import pandas as pd\n",
    "import numpy as np"
   ]
  },
  {
   "cell_type": "code",
   "execution_count": 8,
   "metadata": {
    "collapsed": true
   },
   "outputs": [],
   "source": [
    "def getDataYahoo(symbols,start_date,end_date,paraCol):\n",
    "    data_source=\"yahoo\"\n",
    "    panel_data = data.DataReader(symbols, data_source, start_date, end_date)\n",
    "    df_tmp = panel_data[str(paraCol)]\n",
    "    all_weekdays = pd.date_range(start=start_date, end=end_date, freq='B')\n",
    "    df_tmp = df_tmp.reindex(all_weekdays)\n",
    "    df_clean = dataCleaning(df_tmp)\n",
    "    return df_clean\n",
    "    \n",
    "def dataCleaning(df):\n",
    "    df_tmp = df.fillna(method=\"ffill\")\n",
    "    df_clean = df_tmp.fillna(method=\"bfill\")\n",
    "    return df_clean\n",
    "    \n",
    "def getDataCSV(symbol):\n",
    "    return pd.read_csv(\"data/{}.csv\".format(str(symbol)), header =0, usecols=['Date','Close'],index_col=['Date'])\n",
    "\n",
    "def plotData(df,title=\"\",x=\"\",y=\"\"):\n",
    "    ax = df.plot(title=title)\n",
    "    ax.set_xlabel(x)\n",
    "    ax.set_ylabel(y)\n",
    "    plt.show()\n",
    "    \n",
    "def plotHistData(df,title=\"\",x=\"\",y=\"\",b=20,mean=999,std=999):\n",
    "    ax = df.hist(bins=b)\n",
    "    ax.set_title = title\n",
    "    ax.set_xlabel(x)\n",
    "    ax.set_ylabel(y)\n",
    "    if (mean != 999) and (std != 999) :\n",
    "        plt.axvline(mean,color=\"y\",linestyle=\"dashed\",linewidth=2)\n",
    "        plt.axvline(std,color=\"r\",linestyle=\"dashed\",linewidth=2)\n",
    "        plt.axvline(-std,color=\"r\",linestyle=\"dashed\",linewidth=2)\n",
    "    plt.show()\n",
    "    \n",
    "def plotHistDataMulti(df,tickers,title=\"\",x=\"\",y=\"\",b=20,mean=999,std=999):\n",
    "    for symbol in tickers:\n",
    "        df[str(symbol)].hist(bins=20, label=str(symbol))\n",
    "    plt.legend(loc='upper right')\n",
    "    plt.show()\n",
    "    \n",
    "def dailyReturns(df):\n",
    "    dr = df.copy()\n",
    "    dr[1:] = (dr[1:] / dr[:-1].values) - 1\n",
    "    dr.iloc[0] = 0\n",
    "    #dr.iloc[0,:] = 0\n",
    "    return dr\n",
    "\n",
    "def dailyReturnsMulti(df):\n",
    "    dr = df.copy()\n",
    "    dr[1:] = (dr[1:] / dr[:-1].values) - 1\n",
    "    #dr.iloc[0] = 0\n",
    "    dr.iloc[0,:] = 0\n",
    "    return dr\n",
    "    \n",
    "def plotScatterMulti(df,x=\"\",y=\"\",polyDegree=1):\n",
    "    df.plot(kind='scatter',x=str(x),y=str(y))\n",
    "    beta,alpha = np.polyfit(df[str(x)],df[str(y)],polyDegree) \n",
    "    plt.plot(df[str(x)], beta*df[str(x)] + alpha,'-', color='r')\n",
    "    plt.show()"
   ]
  },
  {
   "cell_type": "code",
   "execution_count": 3,
   "metadata": {
    "collapsed": true
   },
   "outputs": [],
   "source": [
    "tickers = [\"AAPL\",\"GOOG\",\"MSFT\"]\n",
    "stocks = getDataYahoo(tickers,\"2017-01-01\",\"2017-09-28\",\"Close\")"
   ]
  },
  {
   "cell_type": "code",
   "execution_count": 9,
   "metadata": {},
   "outputs": [
    {
     "data": {
      "image/png": "[encoded data removed]",
      "text/plain": [
       "<matplotlib.figure.Figure at 0x11b888c10>"
      ]
     },
     "metadata": {},
     "output_type": "display_data"
    }
   ],
   "source": [
    "plotData(stocks,\"Apple Stocks\",\"Date\",\"Price\")"
   ]
  },
  {
   "cell_type": "code",
   "execution_count": null,
   "metadata": {
    "collapsed": true
   },
   "outputs": [],
   "source": []
  }
 ],
 "metadata": {
  "kernelspec": {
   "display_name": "Python 2",
   "language": "python",
   "name": "python2"
  },
  "language_info": {
   "codemirror_mode": {
    "name": "ipython",
    "version": 2
   },
   "file_extension": ".py",
   "mimetype": "text/x-python",
   "name": "python",
   "nbconvert_exporter": "python",
   "pygments_lexer": "ipython2",
   "version": "2.7.13"
  }
 },
 "nbformat": 4,
 "nbformat_minor": 2
}
