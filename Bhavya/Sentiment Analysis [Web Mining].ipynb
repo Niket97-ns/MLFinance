{
 "cells": [
  {
   "cell_type": "code",
   "execution_count": 14,
   "metadata": {},
   "outputs": [],
   "source": [
    "import csv\n",
    "import time\n",
    "import requests\n",
    "from bs4 import BeautifulSoup\n",
    "from pattern.en import ngrams"
   ]
  },
  {
   "cell_type": "code",
   "execution_count": 15,
   "metadata": {
    "collapsed": true
   },
   "outputs": [],
   "source": [
    "Base_url = \"http://www.moneycontrol.com\"\n",
    "\n",
    "# Build a dictionary of companies and their abbreviated names \n",
    "# companies = {'cadilahealthcare':'CHC','piramalenterprises':'PH05'}\n",
    "# companies = {'cadilahealthcare':'CHC' }\n",
    "companies = {'cadilahealthcare':'CHC','piramalenterprises':'PH05',\n",
    "             'glenmarkpharma':'GP08','glaxosmithklinepharmaceuticals':'GSK',\n",
    "             'sunpharmaceuticalindustries':'SPI','lupinlaboratories':'LL',\n",
    "             'cipla':'C','aurobindopharma':'AP',\n",
    "             'drreddyslaboratories':'DRL','divislaboratories':'DL03'}\n",
    "             \n",
    "# Create a list of the news section urls of the respective companies \n",
    "url_list = ['http://www.moneycontrol.com/company-article/{}/news/{}#{}'.format(k,v,v) for k,v in companies.items()]"
   ]
  },
  {
   "cell_type": "code",
   "execution_count": 16,
   "metadata": {
    "collapsed": true
   },
   "outputs": [],
   "source": [
    "def changeWord(word):\n",
    "    for letter in word:\n",
    "        if letter == \"_\":\n",
    "            word = word.replace(letter,\" \")\n",
    "    return word"
   ]
  },
  {
   "cell_type": "code",
   "execution_count": 17,
   "metadata": {},
   "outputs": [
    {
     "data": {
      "text/plain": [
       "['http://www.moneycontrol.com/company-article/cipla/news/C#C',\n",
       " 'http://www.moneycontrol.com/company-article/drreddyslaboratories/news/DRL#DRL',\n",
       " 'http://www.moneycontrol.com/company-article/aurobindopharma/news/AP#AP',\n",
       " 'http://www.moneycontrol.com/company-article/sunpharmaceuticalindustries/news/SPI#SPI',\n",
       " 'http://www.moneycontrol.com/company-article/piramalenterprises/news/PH05#PH05',\n",
       " 'http://www.moneycontrol.com/company-article/divislaboratories/news/DL03#DL03',\n",
       " 'http://www.moneycontrol.com/company-article/lupinlaboratories/news/LL#LL',\n",
       " 'http://www.moneycontrol.com/company-article/cadilahealthcare/news/CHC#CHC',\n",
       " 'http://www.moneycontrol.com/company-article/glenmarkpharma/news/GP08#GP08',\n",
       " 'http://www.moneycontrol.com/company-article/glaxosmithklinepharmaceuticals/news/GSK#GSK']"
      ]
     },
     "execution_count": 17,
     "metadata": {},
     "output_type": "execute_result"
    }
   ],
   "source": [
    "url_list"
   ]
  },
  {
   "cell_type": "code",
   "execution_count": 18,
   "metadata": {
    "collapsed": true
   },
   "outputs": [],
   "source": [
    "# Create an empty list which will contain the selected news articles \n",
    "List_of_links = []   \n",
    "\n",
    "# Extract the relevant news articles weblinks from the news section of selected companies\n",
    "for urls in url_list:\n",
    "    html = requests.get(urls)\n",
    "    # Create a BeautifulSoup object\n",
    "    soup = BeautifulSoup(html.text,'html.parser')  \n",
    "\n",
    "    # Retrieve a list of all the links and the titles for the respective links\n",
    "    word1,word2,word3 = \"US\",\"USA\",\"USFDA\"\n",
    " \n",
    "    sub_links = soup.find_all('a', class_='arial11_summ')\n",
    "    for links in sub_links:\n",
    "        sp = BeautifulSoup(str(links),'html.parser')  # first convert into a string\n",
    "        tag = sp.a\n",
    "        if word1 in tag['title'] or word2 in tag['title'] or word3 in tag['title']:\n",
    "            category_links = Base_url + tag[\"href\"]\n",
    "            List_of_links.append(category_links)"
   ]
  },
  {
   "cell_type": "code",
   "execution_count": 19,
   "metadata": {},
   "outputs": [],
   "source": [
    "# Remove the duplicate news articles based on News Title\n",
    "unique_links = list(set(List_of_links))\n",
    "\n",
    "# Create a dictionary of positive/negative words related to the Pharma Sector\n",
    "    \n",
    "reader = csv.reader(open('dict1.csv', \"rt\"))\n",
    "pharma_dict = dict((rows[0],rows[1]) for rows in reader)\n",
    "\n",
    "# Creating an empty list which will be filled later with news article links, and Polarity values (pos/neg)\n",
    "df =[]"
   ]
  },
  {
   "cell_type": "code",
   "execution_count": 20,
   "metadata": {
    "collapsed": true
   },
   "outputs": [],
   "source": [
    "for key, value in pharma_dict.items():\n",
    "    key1 = changeWord(key)\n",
    "    pharma_dict[key1] = pharma_dict.pop(key)"
   ]
  },
  {
   "cell_type": "code",
   "execution_count": 26,
   "metadata": {},
   "outputs": [],
   "source": [
    "# Open the choosen news articles and extract the main text  \n",
    "new_dict = {}\n",
    "for selected_links in unique_links:\n",
    "    results_url = selected_links \n",
    "    #print results_url\n",
    "    try:\n",
    "        results = requests.get(results_url)\n",
    "        results_text = BeautifulSoup(results.text,\"lxml\")\n",
    "        extract_text = results_text.find(class_='arti-flow')\n",
    "        final_text = extract_text.get_text()\n",
    "        \n",
    "        # Pre-processing the extracted text using ngrams function from the pattern package   \n",
    "        final_text1 = ngrams(final_text, n=1, punctuation=\".,;:!?()[]{}`''\\\"@#$^&*+-|=~_\", continuous=False)\n",
    "        \n",
    "        # Checking if any of the words in the news article text matches with the words in the Pharma dictionary(pos/neg)\n",
    "        \n",
    "        positive_score,negative_score = 0,0\n",
    "   \n",
    "        for x in final_text1:\n",
    "            if x[0] in pharma_dict:\n",
    "                new_dict[x[0]] = pharma_dict[x[0]] \n",
    "                  \n",
    "        positive_list = [] ; negative_list = [];\n",
    "        for key, value in new_dict.items():\n",
    "            if value == 'positive': positive_list.append(key)\n",
    "            if value == 'negative': negative_list.append(key)\n",
    "                           \n",
    "        # Compute the positive score, the negative score for each news articles\n",
    "        positive_score = len(positive_list) ; negative_score = len(negative_list);\n",
    "        #print positive_list ; print negative_list ;\n",
    "        #print positive_score ; print negative_score;\n",
    "        var_nos = [results_url,positive_score, negative_score]\n",
    "        df.append(var_nos)  \n",
    "    except:\n",
    "        a = 1"
   ]
  },
  {
   "cell_type": "code",
   "execution_count": 27,
   "metadata": {},
   "outputs": [
    {
     "name": "stdout",
     "output_type": "stream",
     "text": [
      "[u'http://www.moneycontrol.com/news/buzzing-stocks/cadila-healthcare4usfda-approval-for-itraconazole-capsules_9725221.html', 1, 0]\n",
      "[u'http://www.moneycontrol.com/news/cnbc-tv18-comments/us-fda-issues-2-observations-to-aurobindo39s-unit-vihyderabad_9678621.html', 0, 0]\n",
      "[u'http://www.moneycontrol.com/news/buzzing-stocks/sun-pharma-gains-4eirusfda-for-dadra-facility_9854941.html', 2, 1]\n",
      "[u'http://www.moneycontrol.com/news/announcements/zydus-receives-final-approvalusfda-for-desvenlafaxine-extended-release-tablets_9856521.html', 2, 1]\n",
      "[u'http://www.moneycontrol.com/news/business/pharma-stocks-extend-gains-divisdr-reddy39s-get-reprieveus-fda_9739321.html', 2, 3]\n",
      "[u'http://www.moneycontrol.com/news/buzzing-stocks/dr-reddy39s-lab-rises-4launchkidney-drugus-market_9800301.html', 2, 4]\n",
      "[u'http://www.moneycontrol.com/news/buzzing-stocks/cadila-healthcare-gains-2usfda-nod-for-desvenlafaxine-tablets_9856761.html', 2, 4]\n",
      "[u'http://www.moneycontrol.com/news/buzzing-stocks/upbeat-clsa-view-procedural-observationsus-fda-send-drl-stock3_9715541.html', 3, 4]\n",
      "[u'http://www.moneycontrol.com/news/stocks-views/drl-launches-renvela-genericus-price-target-at-rs-2200-hdfc-securities_9800101.html', 3, 4]\n",
      "[u'http://www.moneycontrol.com/news/buzzing-stocks/glenmark-pharma-gains-2usfda-nod-for-desonide-ointment_9706721.html', 3, 4]\n",
      "[u'http://www.moneycontrol.com/news/business/zydus-gets-usfda-nod-for-anti-inflammatory-drug_9765641.html', 4, 4]\n",
      "[u'http://www.moneycontrol.com/news/announcements/zydus-receives-final-approvalusfda-for-allopurinol-tablets-usp_9869841.html', 4, 4]\n",
      "[u'http://www.moneycontrol.com/news/announcements/zydus-receives-final-approvalusfda-for-amlodipineolmesartan-medoxomil-tablets_9740141.html', 4, 4]\n",
      "[u'http://www.moneycontrol.com/news/business/glenmark-pharma-receives-usfda-nod-for-skin-lotion_9765081.html', 4, 4]\n",
      "[u'http://www.moneycontrol.com/news/business/dr-reddy39s-gets-eirusfda-for-srikakulam-unit_9773361.html', 4, 4]\n",
      "[u'http://www.moneycontrol.com/news/stocks-views/nomura-sees-45-upsideglenmark-share-priceus-launches-outlicensing-deals_9709461.html', 4, 4]\n",
      "[u'http://www.moneycontrol.com/news/buzzing-stocks/glenmark-pharma-rises-1usfda-nod-for-aprepitant-capsules_9873281.html', 4, 4]\n",
      "[u'http://www.moneycontrol.com/news/announcements/zydus-receives-final-approvalusfda-for-desmopressin-nasal-spray-solution-usp_9810381.html', 4, 4]\n",
      "[u'http://www.moneycontrol.com/news/business/dr-reddy39s-launches-sevelamer-carbonate-tabletsus_9788081.html', 4, 4]\n",
      "[u'http://www.moneycontrol.com/news/announcements/zydus-receives-final-approvalusfda-for-doxycycline-for-injection-usp_9794461.html', 4, 4]\n",
      "[u'http://www.moneycontrol.com/news/announcements/zydus-receives-final-approvalusfda-for-itraconazole-capsules_9725101.html', 4, 4]\n",
      "[u'http://www.moneycontrol.com/news/announcements/zydus-receives-final-approvalusfda-for-amitriptyline-hydrochloride-tablets-usp_9832321.html', 4, 4]\n",
      "[u'http://www.moneycontrol.com/news/announcements/sun-pharma-gets-usfda-approval-for-new-label-for-odomzo_9714021.html', 4, 4]\n",
      "[u'http://www.moneycontrol.com/news/business/zydus-gets-usfda-nod-for-overactive-bladder-drug_9817521.html', 4, 4]\n",
      "[u'http://www.moneycontrol.com/news/buzzing-stocks/cadila-healthcare-rises-1usfda-nod-for-amitriptyline-hydrochloride-tablets_9833261.html', 4, 4]\n",
      "[u'http://www.moneycontrol.com/news/business/glenmark-gets-usfda-nod-for-aprepitant-capsules_9873821.html', 4, 4]\n",
      "[u'http://www.moneycontrol.com/news/buzzing-stocks/cadila-healthcare-gains-2approvalusfda-for-tetracycline-antibiotic_9782101.html', 4, 4]\n",
      "[u'http://www.moneycontrol.com/news/buzzing-stocks/cadila-healthcare1usfda-final-approval-for-allopurinol-tablets_9873221.html', 4, 4]\n",
      "[u'http://www.moneycontrol.com/news/buzzing-stocks/divis-labs-tanks-9-after-usfda-issues-6-observations-to-vizag-unit-2_9764281.html', 4, 5]\n",
      "[u'http://www.moneycontrol.com/news/business/zydus-cadila-gets-final-nodusfda-for-anti-bacteria-drug_9782341.html', 4, 5]\n",
      "[u'http://www.moneycontrol.com/news/stocks-views/earnings-will-see-some-impact-if-divi39s-unit-2-does-not-get-cleared-by-usfda-analyst_9707061.html', 5, 5]\n",
      "[u'http://www.moneycontrol.com/news/buzzing-stocks/dr-reddys-labs-rallies-4eir-reportusfda-for-srikakulam-plant-unit-1_9772941.html', 5, 5]\n",
      "[u'http://www.moneycontrol.com/news/buzzing-stocks/divis-labs-jumps-5-as-axis-capital-upgrades-hikes-target-sharply-post-usfda-audit_9722901.html', 5, 5]\n",
      "[u'http://www.moneycontrol.com/news/buzzing-stocks/cadila-healthcare4usfda-approval-for-itraconazole-capsules_9725221.html', 5, 5]\n"
     ]
    }
   ],
   "source": [
    "# Print the final list of the Sentiment Analysis \n",
    "for item in df:\n",
    "    print(item)"
   ]
  }
 ],
 "metadata": {
  "kernelspec": {
   "display_name": "Python 2",
   "language": "python",
   "name": "python2"
  },
  "language_info": {
   "codemirror_mode": {
    "name": "ipython",
    "version": 2
   },
   "file_extension": ".py",
   "mimetype": "text/x-python",
   "name": "python",
   "nbconvert_exporter": "python",
   "pygments_lexer": "ipython2",
   "version": "2.7.13"
  }
 },
 "nbformat": 4,
 "nbformat_minor": 2
}
