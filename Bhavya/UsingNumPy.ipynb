{
 "cells": [
  {
   "cell_type": "code",
   "execution_count": 45,
   "metadata": {},
   "outputs": [],
   "source": [
    "import numpy as np\n",
    "from time import time"
   ]
  },
  {
   "cell_type": "code",
   "execution_count": 46,
   "metadata": {},
   "outputs": [
    {
     "name": "stdout",
     "output_type": "stream",
     "text": [
      "[[1 1 1 1]\n",
      " [1 1 1 1]\n",
      " [1 1 1 1]\n",
      " [1 1 1 1]\n",
      " [1 1 1 1]]\n"
     ]
    }
   ],
   "source": [
    "print np.ones((5,4), dtype = np.int_)"
   ]
  },
  {
   "cell_type": "code",
   "execution_count": 47,
   "metadata": {},
   "outputs": [
    {
     "name": "stdout",
     "output_type": "stream",
     "text": [
      "[[ 0.97283744  0.71547057  0.24085506  0.07662769]\n",
      " [ 0.19078714  0.06733394  0.32892049  0.13444989]\n",
      " [ 0.06279585  0.52196666  0.0032542   0.73219264]\n",
      " [ 0.90140903  0.06962214  0.26717319  0.91699412]\n",
      " [ 0.04476341  0.43190781  0.26028302  0.06683923]]\n"
     ]
    }
   ],
   "source": [
    "print np.random.rand(5,4)"
   ]
  },
  {
   "cell_type": "code",
   "execution_count": 48,
   "metadata": {},
   "outputs": [
    {
     "name": "stdout",
     "output_type": "stream",
     "text": [
      "[[ 41.02954784  35.8211671   21.35557159]\n",
      " [ 50.09058733  52.59729604  58.9052606 ]]\n",
      "[[6 0 3 1]\n",
      " [9 4 3 9]\n",
      " [2 1 7 6]\n",
      " [1 6 8 4]\n",
      " [2 6 7 8]]\n"
     ]
    }
   ],
   "source": [
    "# Sample Numbers from a Gaussian distribution\n",
    "print np.random.normal(50,10,size=(2,3))\n",
    "# Sample Random Integers in a 2D Array\n",
    "a =  np.random.randint(0,10, size=(5,4))\n",
    "print a"
   ]
  },
  {
   "cell_type": "code",
   "execution_count": 49,
   "metadata": {},
   "outputs": [
    {
     "name": "stdout",
     "output_type": "stream",
     "text": [
      "Shape -> (5, 4)\n",
      "Rows -> 5\n",
      "Cols -> 4\n",
      "Size -> 20\n",
      "DataType -> int64\n"
     ]
    }
   ],
   "source": [
    "# Attributes of an numpy array\n",
    "print \"Shape ->\",a.shape     #Row , Col\n",
    "print \"Rows ->\",a.shape[0]  #Row\n",
    "print \"Cols ->\",a.shape[1]  #Col\n",
    "print \"Size ->\",a.size      #No of Items R * C\n",
    "print \"DataType ->\",a.dtype     "
   ]
  },
  {
   "cell_type": "code",
   "execution_count": 50,
   "metadata": {},
   "outputs": [
    {
     "name": "stdout",
     "output_type": "stream",
     "text": [
      "Sum of Each Col -> [20 17 28 28]\n",
      "Sum of Each Row -> [10 25 16 19 23]\n",
      "\n",
      "Min of Each Col -> [1 0 3 1]\n",
      "Max of Each Row -> [6 9 7 8 8]\n",
      "Mean of all Ele -> 4.65\n",
      "\n",
      "4\n"
     ]
    }
   ],
   "source": [
    "#Calculations\n",
    "print \"Sum of Each Col ->\", a.sum(axis=0)\n",
    "print \"Sum of Each Row ->\", a.sum(axis=1)\n",
    "print\n",
    "\n",
    "print \"Min of Each Col ->\", a.min(axis=0)\n",
    "print \"Max of Each Row ->\", a.max(axis=1)\n",
    "print \"Mean of all Ele ->\", a.mean()\n",
    "print \n",
    "\n",
    "print a.argmax()"
   ]
  },
  {
   "cell_type": "code",
   "execution_count": 53,
   "metadata": {},
   "outputs": [
    {
     "name": "stdout",
     "output_type": "stream",
     "text": [
      "ML4t\n",
      "The time taken by print statement is  0.000401020050049 sec\n"
     ]
    }
   ],
   "source": [
    "t1 = time()\n",
    "print \"ML4t\"\n",
    "t2 = time()\n",
    "print \"The time taken by print statement is \",t2 - t1,\"sec\""
   ]
  },
  {
   "cell_type": "code",
   "execution_count": 56,
   "metadata": {},
   "outputs": [
    {
     "name": "stdout",
     "output_type": "stream",
     "text": [
      "6\n",
      "6\n"
     ]
    }
   ],
   "source": [
    "print a[0,0]\n",
    "print a[0][0]"
   ]
  },
  {
   "cell_type": "code",
   "execution_count": null,
   "metadata": {
    "collapsed": true
   },
   "outputs": [],
   "source": []
  }
 ],
 "metadata": {
  "kernelspec": {
   "display_name": "Python 2",
   "language": "python",
   "name": "python2"
  },
  "language_info": {
   "codemirror_mode": {
    "name": "ipython",
    "version": 2
   },
   "file_extension": ".py",
   "mimetype": "text/x-python",
   "name": "python",
   "nbconvert_exporter": "python",
   "pygments_lexer": "ipython2",
   "version": "2.7.13"
  }
 },
 "nbformat": 4,
 "nbformat_minor": 2
}
