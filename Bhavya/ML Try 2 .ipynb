{
 "cells": [
  {
   "cell_type": "code",
   "execution_count": 16,
   "metadata": {
    "collapsed": true
   },
   "outputs": [],
   "source": [
    "# Importing files\n",
    "from pandas_datareader import data # to get data from online yahoo finance\n",
    "import matplotlib.pyplot as plt # for plotting \n",
    "import pandas as pd # for datasets and data management \n",
    "import numpy as np # for calculations \n",
    "from sklearn import linear_model # for regression models\n",
    "from sklearn.metrics import mean_squared_error # for error analysis \n",
    "from math import sqrt # for simple math calc"
   ]
  },
  {
   "cell_type": "code",
   "execution_count": 17,
   "metadata": {
    "collapsed": true
   },
   "outputs": [],
   "source": [
    "def getDataYahoo(symbols,start_date,end_date,paraCol):\n",
    "    data_source=\"yahoo\"\n",
    "    panel_data = data.DataReader(symbols, data_source, start_date, end_date)\n",
    "    df_tmp = panel_data[str(paraCol)]\n",
    "    all_weekdays = pd.date_range(start=start_date, end=end_date, freq='B')\n",
    "    df_tmp = df_tmp.reindex(all_weekdays)\n",
    "    df_clean = dataCleaning(df_tmp)\n",
    "    return df_clean\n",
    "\n",
    "def dataCleaning(df):\n",
    "    df_tmp = df.fillna(method=\"ffill\")\n",
    "    df_clean = df_tmp.fillna(method=\"bfill\")\n",
    "    return df_clean\n",
    "\n",
    "def plotData(df,title=\"\",x=\"\",y=\"\"):\n",
    "    ax = df.plot(title=title)\n",
    "    ax.set_xlabel(x)\n",
    "    ax.set_ylabel(y)\n",
    "    plt.show()"
   ]
  },
  {
   "cell_type": "code",
   "execution_count": 18,
   "metadata": {
    "collapsed": true
   },
   "outputs": [],
   "source": [
    "class LinRegMachineLearner:\n",
    "    def __init__(self):\n",
    "        pass\n",
    "    \n",
    "    def train(self,x , y):\n",
    "        regr = linear_model.LinearRegression()\n",
    "        regr.fit(x[:, np.newaxis], y[:, np.newaxis])\n",
    "        self.coef = regr.coef_\n",
    "        self.int = regr.intercept_\n",
    "        print \"Training done.\"\n",
    "    \n",
    "    def predict(self,x):\n",
    "        print \"Prediction done.\"\n",
    "        regr = linear_model.LinearRegression()\n",
    "        regr.coef_ = self.coef\n",
    "        regr.intercept_ = self.int\n",
    "        result = regr.predict(x[:, np.newaxis])\n",
    "        result = np.squeeze(result)\n",
    "        return result"
   ]
  },
  {
   "cell_type": "code",
   "execution_count": 7,
   "metadata": {
    "collapsed": true
   },
   "outputs": [],
   "source": [
    "# Training Dataset Gathering\n",
    "googleDF = getDataYahoo(\"GOOG\",'2017-01-01','2017-01-31',\"Adj Close\")\n",
    "google = googleDF.as_matrix()\n",
    "spyDF = getDataYahoo(\"SPY\",'2017-01-01','2017-01-31',\"Adj Close\")\n",
    "spy = spyDF.as_matrix()\n",
    "\n",
    "# Corrected Dataset Gathering\n",
    "newSpyDF = getDataYahoo(\"SPY\",'2017-01-15','2017-01-31',\"Adj Close\")\n",
    "newSpy = newSpyDF.as_matrix()\n",
    "correctGoogleDataDF = getDataYahoo(\"GOOG\",'2017-01-15','2017-01-31',\"Adj Close\")\n",
    "correctGoogleData = correctGoogleDataDF.as_matrix()"
   ]
  },
  {
   "cell_type": "code",
   "execution_count": 20,
   "metadata": {},
   "outputs": [
    {
     "name": "stdout",
     "output_type": "stream",
     "text": [
      "Training done.\n",
      "Prediction done.\n"
     ]
    }
   ],
   "source": [
    "# Supervised Linear Regression Machine Learning\n",
    "myMachine = LinRegMachineLearner()\n",
    "myMachine.train(spy,google)\n",
    "predictedData = myMachine.predict(newSpy)"
   ]
  },
  {
   "cell_type": "code",
   "execution_count": 21,
   "metadata": {},
   "outputs": [
    {
     "name": "stdout",
     "output_type": "stream",
     "text": [
      "Linear Regression Algorithm\n",
      "--------------------------------------------\n",
      "Model Training - 1M \n",
      "Model Prediction - 1W\n"
     ]
    },
    {
     "data": {
      "image/png": "[encoded data removed]",
      "text/plain": [
       "<matplotlib.figure.Figure at 0x1a0e7c8990>"
      ]
     },
     "metadata": {},
     "output_type": "display_data"
    }
   ],
   "source": [
    "print \"Linear Regression Algorithm\"\n",
    "print \"--------------------------------------------\"\n",
    "print \"Model Training - 1M \\nModel Prediction - 1W\"\n",
    "plotData(pd.DataFrame({'Actual Price':correctGoogleData, 'Predicted Price':predictedData}))"
   ]
  },
  {
   "cell_type": "code",
   "execution_count": 24,
   "metadata": {},
   "outputs": [
    {
     "name": "stdout",
     "output_type": "stream",
     "text": [
      "9.01510194404\n"
     ]
    }
   ],
   "source": [
    "print sqrt(mean_squared_error(correctGoogleData,predictedData))"
   ]
  }
 ],
 "metadata": {
  "kernelspec": {
   "display_name": "Python 2",
   "language": "python",
   "name": "python2"
  },
  "language_info": {
   "codemirror_mode": {
    "name": "ipython",
    "version": 2
   },
   "file_extension": ".py",
   "mimetype": "text/x-python",
   "name": "python",
   "nbconvert_exporter": "python",
   "pygments_lexer": "ipython2",
   "version": "2.7.13"
  }
 },
 "nbformat": 4,
 "nbformat_minor": 2
}
