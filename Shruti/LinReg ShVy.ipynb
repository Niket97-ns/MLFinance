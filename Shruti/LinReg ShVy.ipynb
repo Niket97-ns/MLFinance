{
 "cells": [
  {
   "cell_type": "code",
   "execution_count": 1,
   "metadata": {
    "collapsed": true
   },
   "outputs": [],
   "source": [
    "# Importing files\n",
    "from pandas_datareader import data # to get data from online yahoo finance\n",
    "import matplotlib.pyplot as plt # for plotting \n",
    "import pandas as pd # for datasets and data management \n",
    "import numpy as np # for calculations \n",
    "from sklearn import linear_model # for regression models\n",
    "from sklearn.metrics import mean_squared_error # for error analysis \n",
    "from math import sqrt # for simple math calc"
   ]
  },
  {
   "cell_type": "code",
   "execution_count": 2,
   "metadata": {
    "collapsed": true
   },
   "outputs": [],
   "source": [
    "def getDataYahoo(symbols,start_date,end_date,paraCol):\n",
    "    data_source=\"yahoo\"\n",
    "    panel_data = data.DataReader(symbols, data_source, start_date, end_date)\n",
    "    df_tmp = panel_data[str(paraCol)]\n",
    "    all_weekdays = pd.date_range(start=start_date, end=end_date, freq='B')\n",
    "    df_tmp = df_tmp.reindex(all_weekdays)\n",
    "    df_clean = dataCleaning(df_tmp)\n",
    "    return df_clean\n",
    "\n",
    "def dataCleaning(df):\n",
    "    df_tmp = df.fillna(method=\"ffill\")\n",
    "    df_clean = df_tmp.fillna(method=\"bfill\")\n",
    "    return df_clean\n",
    "\n",
    "def plotData(df,title=\"\",x=\"\",y=\"\"):\n",
    "    ax = df.plot(title=title)\n",
    "    ax.set_xlabel(x)\n",
    "    ax.set_ylabel(y)\n",
    "    plt.show()"
   ]
  },
  {
   "cell_type": "code",
   "execution_count": 3,
   "metadata": {
    "collapsed": true
   },
   "outputs": [],
   "source": [
    "class LinRegMachineLearner:\n",
    "    def __init__(self):\n",
    "        pass\n",
    "    \n",
    "    def train(self,x , y):\n",
    "        regr = linear_model.LinearRegression()\n",
    "        regr.fit(x[:, np.newaxis], y[:, np.newaxis])\n",
    "        self.coef = regr.coef_\n",
    "        self.int = regr.intercept_\n",
    "        print \"Training done.\"\n",
    "    \n",
    "    def predict(self,x):\n",
    "        print \"Prediction done.\"\n",
    "        regr = linear_model.LinearRegression()\n",
    "        regr.coef_ = self.coef\n",
    "        regr.intercept_ = self.int\n",
    "        result = regr.predict(x[:, np.newaxis])\n",
    "        result = np.squeeze(result)\n",
    "        return result"
   ]
  },
  {
   "cell_type": "code",
   "execution_count": 9,
   "metadata": {
    "collapsed": true
   },
   "outputs": [],
   "source": [
    "tr_startdate = '2017-01-01'\n",
    "tr_enddate = '2017-01-31'\n",
    "test_start = '2017-03-01'\n",
    "test_end = '2017-03-15'\n",
    "\n",
    "appleDf = getDataYahoo('AAPL',tr_startdate,tr_enddate,'Adj Close')\n",
    "apple = appleDf.as_matrix()\n",
    "\n",
    "spyDf = getDataYahoo('SPY',tr_startdate,tr_enddate,'Adj Close')\n",
    "spy = spyDf.as_matrix()"
   ]
  },
  {
   "cell_type": "code",
   "execution_count": 27,
   "metadata": {},
   "outputs": [
    {
     "name": "stdout",
     "output_type": "stream",
     "text": [
      "2017-01-02    114.722694\n",
      "2017-01-03    114.722694\n",
      "2017-01-04    114.594292\n",
      "2017-01-05    115.177040\n",
      "2017-01-06    116.461075\n",
      "2017-01-09    117.527794\n",
      "2017-01-10    117.646317\n",
      "2017-01-11    118.278458\n",
      "2017-01-12    117.784599\n",
      "2017-01-13    117.577179\n",
      "2017-01-16    117.577179\n",
      "2017-01-17    118.525383\n",
      "2017-01-18    118.515503\n",
      "2017-01-19    118.308083\n",
      "2017-01-20    118.525383\n",
      "2017-01-23    118.604401\n",
      "2017-01-24    118.495758\n",
      "2017-01-25    120.382278\n",
      "2017-01-26    120.441551\n",
      "2017-01-27    120.451416\n",
      "2017-01-30    120.135345\n",
      "2017-01-31    119.858795\n",
      "Freq: B, Name: Adj Close, dtype: float64\n",
      "[ 114.722694  114.722694  114.594292  115.17704   116.461075  117.527794\n",
      "  117.646317  118.278458  117.784599  117.577179  117.577179  118.525383\n",
      "  118.515503  118.308083  118.525383  118.604401  118.495758  120.382278\n",
      "  120.441551  120.451416  120.135345  119.858795]\n",
      "[ 222.073914  222.073914  223.395081  223.217606  224.01622   223.276779\n",
      "  223.276779  223.907761  223.345779  223.858475  223.858475  223.069702\n",
      "  223.562683  222.734497  223.552826  222.971115  224.400742  226.343048\n",
      "  226.106415  225.75148   224.35144   224.331726]\n"
     ]
    }
   ],
   "source": [
    "print appleDf\n",
    "print apple\n",
    "print spy"
   ]
  },
  {
   "cell_type": "code",
   "execution_count": 12,
   "metadata": {},
   "outputs": [],
   "source": [
    "test_appleDf = getDataYahoo('AAPL',test_start,test_end,'Adj Close')\n",
    "test_apple = test_appleDf.as_matrix()\n",
    "\n",
    "test_spyDf = getDataYahoo('SPY',test_start,test_end,'Adj Close')\n",
    "test_spy = test_spyDf.as_matrix()"
   ]
  },
  {
   "cell_type": "code",
   "execution_count": 14,
   "metadata": {},
   "outputs": [
    {
     "name": "stdout",
     "output_type": "stream",
     "text": [
      "[ 138.670807  137.847473  138.660889  138.224426  138.402985  137.887146\n",
      "  137.569687  138.026016  138.085541  137.877228  139.335464]\n",
      "[ 236.409515  234.920761  235.068665  234.368622  233.66861   233.234802\n",
      "  233.530579  234.348923  234.467224  233.570007  235.591202]\n"
     ]
    }
   ],
   "source": [
    "print test_apple\n",
    "print test_spy"
   ]
  },
  {
   "cell_type": "code",
   "execution_count": 15,
   "metadata": {},
   "outputs": [
    {
     "name": "stdout",
     "output_type": "stream",
     "text": [
      "Training done.\n"
     ]
    }
   ],
   "source": [
    "bhavyamachine = LinRegMachineLearner()\n",
    "bhavyamachine.train(spy,apple)\n"
   ]
  },
  {
   "cell_type": "code",
   "execution_count": 17,
   "metadata": {},
   "outputs": [
    {
     "name": "stdout",
     "output_type": "stream",
     "text": [
      "Prediction done.\n"
     ]
    }
   ],
   "source": [
    "bhavya = bhavyamachine.predict(test_spy)"
   ]
  },
  {
   "cell_type": "code",
   "execution_count": 19,
   "metadata": {},
   "outputs": [
    {
     "name": "stdout",
     "output_type": "stream",
     "text": [
      "[ 133.26394997  131.45355157  131.63341014  130.78212327  129.9308741\n",
      "  129.40334215  129.76302159  130.75816832  130.90202818  129.81096799\n",
      "  132.26884094]\n"
     ]
    }
   ],
   "source": [
    "print bhavya"
   ]
  },
  {
   "cell_type": "code",
   "execution_count": 24,
   "metadata": {},
   "outputs": [],
   "source": [
    "df=pd.DataFrame({'trueapple':test_apple, 'predictedapple':bhavya})"
   ]
  },
  {
   "cell_type": "code",
   "execution_count": 26,
   "metadata": {},
   "outputs": [
    {
     "data": {
      "image/png": "[encoded data removed]",
      "text/plain": [
       "<matplotlib.figure.Figure at 0x1a144d6710>"
      ]
     },
     "metadata": {},
     "output_type": "display_data"
    }
   ],
   "source": [
    "\n",
    "plotData(df,\"Niki\",\"days\",\"price\" )"
   ]
  },
  {
   "cell_type": "code",
   "execution_count": null,
   "metadata": {
    "collapsed": true
   },
   "outputs": [],
   "source": []
  }
 ],
 "metadata": {
  "kernelspec": {
   "display_name": "Python 2",
   "language": "python",
   "name": "python2"
  },
  "language_info": {
   "codemirror_mode": {
    "name": "ipython",
    "version": 2
   },
   "file_extension": ".py",
   "mimetype": "text/x-python",
   "name": "python",
   "nbconvert_exporter": "python",
   "pygments_lexer": "ipython2",
   "version": "2.7.13"
  }
 },
 "nbformat": 4,
 "nbformat_minor": 2
}
