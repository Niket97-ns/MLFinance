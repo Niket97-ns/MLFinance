{
 "cells": [
  {
   "cell_type": "code",
   "execution_count": 33,
   "metadata": {
    "collapsed": true
   },
   "outputs": [],
   "source": [
    "import pandas as pd\n"
   ]
  },
  {
   "cell_type": "code",
   "execution_count": 34,
   "metadata": {
    "collapsed": true
   },
   "outputs": [],
   "source": [
    "start_date = '2010-11-29'\n",
    "end_date = '2017-09-14'\n",
    "dates = pd.date_range(start_date,end_date)\n"
   ]
  },
  {
   "cell_type": "code",
   "execution_count": 35,
   "metadata": {
    "collapsed": true
   },
   "outputs": [],
   "source": [
    "df1 = pd.DataFrame(index = dates)\n",
    "symbols = ['SPY','AAPL','MSFT','HCP']"
   ]
  },
  {
   "cell_type": "code",
   "execution_count": 36,
   "metadata": {},
   "outputs": [
    {
     "name": "stdout",
     "output_type": "stream",
     "text": [
      "                   SPY        AAPL       MSFT        HCP\n",
      "2010-11-29         NaN   45.071430        NaN        NaN\n",
      "2010-11-30         NaN   44.791428        NaN        NaN\n",
      "2010-12-01         NaN   45.038570        NaN        NaN\n",
      "2010-12-02         NaN   45.361427        NaN        NaN\n",
      "2010-12-03         NaN   45.287144        NaN        NaN\n",
      "2010-12-04         NaN         NaN        NaN        NaN\n",
      "2010-12-05         NaN         NaN        NaN        NaN\n",
      "2010-12-06         NaN   45.520000        NaN        NaN\n",
      "2010-12-07         NaN   46.257141        NaN        NaN\n",
      "2010-12-08         NaN   45.661430        NaN        NaN\n",
      "2010-12-09         NaN   46.018570        NaN        NaN\n",
      "2010-12-10         NaN   45.664288        NaN        NaN\n",
      "2010-12-11         NaN         NaN        NaN        NaN\n",
      "2010-12-12         NaN         NaN        NaN        NaN\n",
      "2010-12-13         NaN   46.338570        NaN        NaN\n",
      "2010-12-14         NaN   45.961430        NaN        NaN\n",
      "2010-12-15         NaN   45.714287        NaN        NaN\n",
      "2010-12-16         NaN   45.869999        NaN        NaN\n",
      "2010-12-17         NaN   45.947144        NaN        NaN\n",
      "2010-12-18         NaN         NaN        NaN        NaN\n",
      "2010-12-19         NaN         NaN        NaN        NaN\n",
      "2010-12-20         NaN   45.942856        NaN        NaN\n",
      "2010-12-21         NaN   46.142857        NaN        NaN\n",
      "2010-12-22         NaN   46.337143        NaN        NaN\n",
      "2010-12-23         NaN   46.428570        NaN        NaN\n",
      "2010-12-24         NaN         NaN        NaN        NaN\n",
      "2010-12-25         NaN         NaN        NaN        NaN\n",
      "2010-12-26         NaN         NaN        NaN        NaN\n",
      "2010-12-27         NaN   46.121429        NaN        NaN\n",
      "2010-12-28         NaN   46.558571        NaN        NaN\n",
      "...                ...         ...        ...        ...\n",
      "2017-08-16         NaN  161.940002        NaN        NaN\n",
      "2017-08-17         NaN  160.520004        NaN        NaN\n",
      "2017-08-18         NaN  157.860001        NaN        NaN\n",
      "2017-08-19         NaN         NaN        NaN        NaN\n",
      "2017-08-20         NaN         NaN        NaN        NaN\n",
      "2017-08-21         NaN  157.500000        NaN        NaN\n",
      "2017-08-22         NaN  158.229996        NaN        NaN\n",
      "2017-08-23         NaN  159.070007        NaN        NaN\n",
      "2017-08-24         NaN  160.429993        NaN        NaN\n",
      "2017-08-25         NaN  159.649994        NaN        NaN\n",
      "2017-08-26         NaN         NaN        NaN        NaN\n",
      "2017-08-27         NaN         NaN        NaN        NaN\n",
      "2017-08-28         NaN  160.139999  73.059998  29.559999\n",
      "2017-08-29  243.059998  160.100006  72.250000  29.360001\n",
      "2017-08-30  244.830002  163.800003  73.010002  29.459999\n",
      "2017-08-31  246.720001  163.639999  74.029999  29.590000\n",
      "2017-09-01  247.919998  164.800003  74.709999  29.820000\n",
      "2017-09-02         NaN         NaN        NaN        NaN\n",
      "2017-09-03         NaN         NaN        NaN        NaN\n",
      "2017-09-04         NaN         NaN        NaN        NaN\n",
      "2017-09-05  247.259995  163.750000  73.339996  30.110001\n",
      "2017-09-06  246.839996  162.710007  73.739998  30.209999\n",
      "2017-09-07  247.250000  162.089996  73.680000  30.160000\n",
      "2017-09-08  246.539993  160.860001  74.330002  30.129999\n",
      "2017-09-09         NaN         NaN        NaN        NaN\n",
      "2017-09-10         NaN         NaN        NaN        NaN\n",
      "2017-09-11  248.039993  160.500000  74.309998  30.250000\n",
      "2017-09-12  249.630005  162.610001  74.760002  30.280001\n",
      "2017-09-13  249.720001  159.869995  74.930000  29.780001\n",
      "2017-09-14  249.800003  158.990005  75.000000  29.549999\n",
      "\n",
      "[2482 rows x 4 columns]\n"
     ]
    }
   ],
   "source": [
    "for symbol in symbols:\n",
    "    df1_temp = pd.read_csv(\"data/{}.csv\".format(symbol),index_col=\"Date\",parse_dates=True,usecols=['Date','Open'])\n",
    "    #rename the clashing columns\n",
    "    df1_temp = df1_temp.rename(columns={'Open':symbol})\n",
    "    df1 = df1.join(df1_temp)\n",
    "    \n",
    "print(df1)\n",
    "    "
   ]
  },
  {
   "cell_type": "code",
   "execution_count": 10,
   "metadata": {},
   "outputs": [
    {
     "name": "stdout",
     "output_type": "stream",
     "text": [
      "('Since the mean by manual and numpy are ', 5.319900035858154, 'and', 0.006395101547241211, 'respectively,the speedup is', 831.8710807888752)\n"
     ]
    }
   ],
   "source": [
    "import time\n",
    "import numpy as np\n",
    "a = np.random.rand(1000,10000)\n",
    "t1_n = time.time()\n",
    "mean_n = a.mean()\n",
    "t2_n = time.time()\n",
    "\n",
    "t1_m = time.time()\n",
    "sum_m = 0\n",
    "for i in xrange(0,a.shape[0]):\n",
    "    for j in xrange(0,a.shape[1]):\n",
    "        sum_m = sum_m + a[i,j]\n",
    "        \n",
    "mean_m = sum_m/a.size\n",
    "t2_m = time.time()\n",
    "time_manual = t2_m - t1_m\n",
    "time_numpy = t2_n - t1_n\n",
    "speed_up = time_manual/time_numpy\n",
    "print(\"Since the mean by manual and numpy are \",time_manual,\"and\",time_numpy,\"respectively,the speedup is\",speed_up)\n"
   ]
  },
  {
   "cell_type": "code",
   "execution_count": null,
   "metadata": {
    "collapsed": true
   },
   "outputs": [],
   "source": []
  },
  {
   "cell_type": "code",
   "execution_count": null,
   "metadata": {
    "collapsed": true
   },
   "outputs": [],
   "source": []
  }
 ],
 "metadata": {
  "kernelspec": {
   "display_name": "Python 2",
   "language": "python",
   "name": "python2"
  },
  "language_info": {
   "codemirror_mode": {
    "name": "ipython",
    "version": 2
   },
   "file_extension": ".py",
   "mimetype": "text/x-python",
   "name": "python",
   "nbconvert_exporter": "python",
   "pygments_lexer": "ipython2",
   "version": "2.7.13"
  }
 },
 "nbformat": 4,
 "nbformat_minor": 2
}
