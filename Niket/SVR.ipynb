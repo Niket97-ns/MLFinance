{
 "cells": [
  {
   "cell_type": "code",
   "execution_count": 61,
   "metadata": {
    "collapsed": true
   },
   "outputs": [],
   "source": [
    "from pandas_datareader import data\n",
    "import matplotlib.pyplot as plt\n",
    "import pandas as pd\n",
    "import numpy as np\n",
    "from sklearn import linear_model\n",
    "from sklearn.svm import SVR\n",
    "from sklearn.metrics import mean_squared_error,r2_score\n",
    "from math import sqrt\n",
    "\n",
    "def getDataYahoo(symbols,start_date,end_date,paraCol):\n",
    "    data_source=\"yahoo\"\n",
    "    panel_data = data.DataReader(symbols, data_source, start_date, end_date)\n",
    "    df_tmp = panel_data[str(paraCol)]\n",
    "    all_weekdays = pd.date_range(start=start_date, end=end_date, freq='B')\n",
    "    df_tmp = df_tmp.reindex(all_weekdays)\n",
    "    df_clean = dataCleaning(df_tmp)\n",
    "    return df_clean\n",
    "    \n",
    "    \n",
    "def dataCleaning(df):\n",
    "    df_tmp = df.fillna(method=\"ffill\")\n",
    "    df_clean = df_tmp.fillna(method=\"bfill\")\n",
    "    return df_clean\n",
    "    \n",
    "def getDataCSV(symbol):\n",
    "    return pd.read_csv(\"data/{}.csv\".format(str(symbol)), header =0, usecols=['Date','Close'],index_col=['Date'])\n",
    "\n",
    "def plotData(df,title=\"\",x=\"\",y=\"\"):\n",
    "    ax = df.plot(title=title)\n",
    "    ax.set_xlabel(x)\n",
    "    ax.set_ylabel(y)\n",
    "    plt.show()\n",
    "    \n",
    "def plotHistData(df,title=\"\",x=\"\",y=\"\",b=20,mean=999,std=999):\n",
    "    ax = df.hist(bins=b)\n",
    "    ax.set_title = title\n",
    "    ax.set_xlabel(x)\n",
    "    ax.set_ylabel(y)\n",
    "    if (mean != 999) and (std != 999) :\n",
    "        plt.axvline(mean,color=\"y\",linestyle=\"dashed\",linewidth=2)\n",
    "        plt.axvline(std,color=\"r\",linestyle=\"dashed\",linewidth=2)\n",
    "        plt.axvline(-std,color=\"r\",linestyle=\"dashed\",linewidth=2)\n",
    "    plt.show()\n",
    "    \n",
    "def plotHistDataMulti(df,tickers,title=\"\",x=\"\",y=\"\",b=20,mean=999,std=999):\n",
    "    for symbol in tickers:\n",
    "        df[str(symbol)].hist(bins=20, label=str(symbol))\n",
    "    plt.legend(loc='upper right')\n",
    "    plt.show()\n",
    "    \n",
    "def dailyReturns(df):\n",
    "    dr = df.copy()\n",
    "    dr[1:] = (dr[1:] / dr[:-1].values) - 1\n",
    "    dr.iloc[0] = 0\n",
    "    #dr.iloc[0,:] = 0\n",
    "    return dr\n",
    "\n",
    "def dailyReturnsMulti(df):\n",
    "    dr = df.copy()\n",
    "    dr[1:] = (dr[1:] / dr[:-1].values) - 1\n",
    "    #dr.iloc[0] = 0\n",
    "    dr.iloc[0,:] = 0\n",
    "    return dr\n",
    "    \n",
    "def plotScatterMulti(df,x=\"\",y=\"\",polyDegree=1):\n",
    "    global beta,alpha\n",
    "    df.plot(kind='scatter',x=str(x),y=str(y))\n",
    "    beta,alpha = np.polyfit(df[str(x)],df[str(y)],polyDegree) \n",
    "    plt.plot(df[str(x)], beta*df[str(x)] + alpha,'-', color='r')\n",
    "    plt.show()\n",
    "    \n",
    "def predictor(X):\n",
    "    Y = beta*X + alpha\n",
    "    return Y\n",
    "\n",
    "\n"
   ]
  },
  {
   "cell_type": "code",
   "execution_count": 62,
   "metadata": {
    "collapsed": true
   },
   "outputs": [],
   "source": [
    "google = getDataYahoo(\"GOOG\",'2017-01-01','2017-01-31',\"Adj Close\")\n",
    "market = getDataYahoo(\"SPY\",'2017-01-01','2017-01-31',\"Adj Close\")\n",
    "oldDummy = getDataYahoo([\"SPY\",\"GOOG\"],'2017-01-01','2017-01-31',\"Adj Close\")\n",
    "g = google.as_matrix()\n",
    "m = market.as_matrix()\n",
    "\n"
   ]
  },
  {
   "cell_type": "code",
   "execution_count": 63,
   "metadata": {},
   "outputs": [
    {
     "name": "stdout",
     "output_type": "stream",
     "text": [
      "[ 786.140015  786.140015  786.900024  794.02002   806.150024  806.650024\n",
      "  804.789978  807.909973  806.359985  807.880005  807.880005  804.609985\n",
      "  806.070007  802.174988  805.02002   819.309998  823.869995  835.669983\n",
      "  832.150024  823.309998  802.320007  796.789978]\n"
     ]
    }
   ],
   "source": [
    "svr_lin = SVR(kernel = 'linear', C=1e3)\n",
    "svr_poly = SVR(kernel = 'poly', C=1e3,degree = 2 )\n",
    "svr_rbf = SVR(kernel = 'rbf', C=1e3, gamma = 0.1)\n",
    "print g"
   ]
  },
  {
   "cell_type": "code",
   "execution_count": 64,
   "metadata": {
    "scrolled": true
   },
   "outputs": [
    {
     "data": {
      "text/plain": [
       "SVR(C=1000.0, cache_size=200, coef0=0.0, degree=3, epsilon=0.1, gamma=0.1,\n",
       "  kernel='rbf', max_iter=-1, shrinking=True, tol=0.001, verbose=False)"
      ]
     },
     "execution_count": 64,
     "metadata": {},
     "output_type": "execute_result"
    }
   ],
   "source": [
    "svr_lin.fit(m[:, np.newaxis], g[:, np.newaxis])\n",
    "svr_poly.fit(m[:, np.newaxis], g[:, np.newaxis])\n",
    "svr_rbf.fit(m[:, np.newaxis], g[:, np.newaxis])\n"
   ]
  },
  {
   "cell_type": "code",
   "execution_count": 65,
   "metadata": {
    "collapsed": true
   },
   "outputs": [],
   "source": [
    "newSPY = getDataYahoo(\"SPY\",'2017-01-15','2017-01-31',\"Adj Close\")\n",
    "s = newSPY.as_matrix()"
   ]
  },
  {
   "cell_type": "code",
   "execution_count": 66,
   "metadata": {},
   "outputs": [
    {
     "name": "stdout",
     "output_type": "stream",
     "text": [
      "linear:- [ 802.37561658  802.37561658  808.09516268  798.48658144  807.98080214\n",
      "  801.23181413  817.81828997  840.35284748  837.60744081  833.48949893\n",
      "  817.2462902   817.01756919]\n",
      "poly:- [-168477.91056115 -168477.91056115 -169021.26700646 -168109.14005334\n",
      " -169010.38810021 -168369.39591271 -169947.7113424  -172108.19767053\n",
      " -171843.98770959 -171448.20597131 -169893.11270959 -169871.28849084]\n",
      "rbf:- [ 804.51037062  804.51037062  806.34543378  800.8115242   806.33778896\n",
      "  803.66619003  806.63626174  835.76943829  830.89328617  823.41014877\n",
      "  806.51265226  806.47071744]\n",
      "true values\n",
      "[ 804.609985  804.609985  806.070007  802.174988  805.02002   819.309998\n",
      "  823.869995  835.669983  832.150024  823.309998  802.320007  796.789978]\n"
     ]
    }
   ],
   "source": [
    "print \"linear:-\",svr_lin.predict(s[:,np.newaxis])\n",
    "print \"poly:-\",svr_poly.predict(s[:,np.newaxis])\n",
    "print \"rbf:-\",svr_rbf.predict(s[:,np.newaxis])\n",
    "newDummy = getDataYahoo([\"SPY\",\"GOOG\"],'2017-01-15','2017-01-31',\"Adj Close\")\n",
    "true_google =getDataYahoo(\"GOOG\",'2017-01-15','2017-01-31',\"Adj Close\")\n",
    "t_g = true_google.as_matrix()\n",
    "print \"true values\"\n",
    "print(t_g)"
   ]
  },
  {
   "cell_type": "code",
   "execution_count": 67,
   "metadata": {},
   "outputs": [
    {
     "data": {
      "image/png": "[encoded data removed]",
      "text/plain": [
       "<matplotlib.figure.Figure at 0x1a13009790>"
      ]
     },
     "metadata": {},
     "output_type": "display_data"
    }
   ],
   "source": [
    "plt.scatter(m,g,color='black',label='SPY')\n",
    "plt.plot(m,svr_rbf.predict(m[:,np.newaxis]),color='red',label='RBF model')\n",
    "#plt.plot(m,svr_poly.predict(m[:,np.newaxis]),color='blue',label='POLY model')\n",
    "plt.plot(m,svr_lin.predict(m[:,np.newaxis]),color='green',label='Linear model')\n",
    "plt.xlabel('SPY')\n",
    "plt.ylabel('GOOG')\n",
    "plt.title('SVR of GOOG and SPY')\n",
    "plt.legend()\n",
    "plt.show()\n"
   ]
  },
  {
   "cell_type": "code",
   "execution_count": 68,
   "metadata": {
    "collapsed": true
   },
   "outputs": [],
   "source": [
    "svr_linear_prediction = svr_lin.predict(s[:,np.newaxis])         #storing predictions in arrays\n",
    "svr_poly_prediction =  svr_poly.predict(s[:,np.newaxis])\n",
    "svr_rbf_prediction =  svr_rbf.predict(s[:,np.newaxis])"
   ]
  },
  {
   "cell_type": "code",
   "execution_count": 69,
   "metadata": {},
   "outputs": [
    {
     "name": "stdout",
     "output_type": "stream",
     "text": [
      "mean squared error calculation\n",
      "linear error:- 9.94645972331\n",
      "poly error:- 170533.26977\n",
      "rbf error:- 7.40673030635\n"
     ]
    }
   ],
   "source": [
    "print \"mean squared error calculation\"\n",
    "print \"linear error:-\",sqrt(mean_squared_error(t_g, svr_linear_prediction))\n",
    "print \"poly error:-\",sqrt(mean_squared_error(t_g, svr_poly_prediction))\n",
    "print \"rbf error:-\",sqrt(mean_squared_error(t_g, svr_rbf_prediction))"
   ]
  },
  {
   "cell_type": "code",
   "execution_count": 70,
   "metadata": {},
   "outputs": [
    {
     "name": "stdout",
     "output_type": "stream",
     "text": [
      "R2_score ideal value =1.0\n",
      "linear score:- 0.372330601118\n",
      "poly score:- -184506697.355\n",
      "rbf score:- 0.651945733412\n"
     ]
    }
   ],
   "source": [
    "print \"R2_score ideal value =1.0\"\n",
    "print \"linear score:-\",r2_score(t_g, svr_linear_prediction)\n",
    "print \"poly score:-\",r2_score(t_g, svr_poly_prediction)\n",
    "print \"rbf score:-\",r2_score(t_g, svr_rbf_prediction)\n",
    "                                "
   ]
  },
  {
   "cell_type": "code",
   "execution_count": null,
   "metadata": {
    "collapsed": true
   },
   "outputs": [],
   "source": []
  }
 ],
 "metadata": {
  "kernelspec": {
   "display_name": "Python 2",
   "language": "python",
   "name": "python2"
  },
  "language_info": {
   "codemirror_mode": {
    "name": "ipython",
    "version": 2
   },
   "file_extension": ".py",
   "mimetype": "text/x-python",
   "name": "python",
   "nbconvert_exporter": "python",
   "pygments_lexer": "ipython2",
   "version": "2.7.13"
  }
 },
 "nbformat": 4,
 "nbformat_minor": 2
}
