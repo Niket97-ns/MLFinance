{
 "cells": [
  {
   "cell_type": "code",
   "execution_count": 1,
   "metadata": {
    "collapsed": true
   },
   "outputs": [],
   "source": [
    "from pandas_datareader import data\n",
    "import matplotlib.pyplot as plt\n",
    "import pandas as pd\n",
    "import os"
   ]
  },
  {
   "cell_type": "code",
   "execution_count": 10,
   "metadata": {},
   "outputs": [],
   "source": [
    "def symbol_to_path(symbol, base_dir=\"data\"):\n",
    "    \"\"\"Return CSV file path given ticker symbol.\"\"\"\n",
    "    return os.path.join(base_dir, \"{}.csv\".format(str(symbol)))\n",
    "\n",
    "\n",
    "def get_data(symbols, dates):\n",
    "    \"\"\"Read stock data (adjusted close) for given symbols from CSV files.\"\"\"\n",
    "    df = pd.DataFrame(index=dates)\n",
    "    if 'SPY' not in symbols:  # add SPY for reference, if absent\n",
    "         symbols.insert(0, 'SPY')\n",
    "\n",
    "    for symbol in symbols:\n",
    "        # TODO: Read and join data for each symbol\n",
    "        df_temp = pd.read_csv(symbol_to_path(symbol), index_col='Date', parse_dates=True, usecols=['Date','Adj Close'])\n",
    "        df = df.rename(columns = {'Adj Close': symbol})\n",
    "        df = df.join(df_temp)\n",
    "        #if symbol == 'SPY' :\n",
    "        #    df = df.dropna(subset=[\"SPY\"])\n",
    "    return df"
   ]
  },
  {
   "cell_type": "code",
   "execution_count": 11,
   "metadata": {},
   "outputs": [
    {
     "name": "stdout",
     "output_type": "stream",
     "text": [
      "            AAPL        MSFT  HCP  Adj Close\n",
      "2017-01-01   NaN         NaN  NaN        NaN\n",
      "2017-01-02   NaN         NaN  NaN        NaN\n",
      "2017-01-03   NaN  114.722694  NaN        NaN\n",
      "2017-01-04   NaN  114.594292  NaN        NaN\n",
      "2017-01-05   NaN  115.177040  NaN        NaN\n",
      "2017-01-06   NaN  116.461075  NaN        NaN\n",
      "2017-01-07   NaN         NaN  NaN        NaN\n",
      "2017-01-08   NaN         NaN  NaN        NaN\n",
      "2017-01-09   NaN  117.527794  NaN        NaN\n",
      "2017-01-10   NaN  117.646317  NaN        NaN\n",
      "2017-01-11   NaN  118.278458  NaN        NaN\n",
      "2017-01-12   NaN  117.784599  NaN        NaN\n",
      "2017-01-13   NaN  117.577179  NaN        NaN\n",
      "2017-01-14   NaN         NaN  NaN        NaN\n",
      "2017-01-15   NaN         NaN  NaN        NaN\n",
      "2017-01-16   NaN         NaN  NaN        NaN\n",
      "2017-01-17   NaN  118.525383  NaN        NaN\n",
      "2017-01-18   NaN  118.515503  NaN        NaN\n",
      "2017-01-19   NaN  118.308083  NaN        NaN\n",
      "2017-01-20   NaN  118.525383  NaN        NaN\n",
      "2017-01-21   NaN         NaN  NaN        NaN\n",
      "2017-01-22   NaN         NaN  NaN        NaN\n",
      "2017-01-23   NaN  118.604401  NaN        NaN\n",
      "2017-01-24   NaN  118.495758  NaN        NaN\n",
      "2017-01-25   NaN  120.382278  NaN        NaN\n",
      "2017-01-26   NaN  120.441551  NaN        NaN\n",
      "2017-01-27   NaN  120.451416  NaN        NaN\n",
      "2017-01-28   NaN         NaN  NaN        NaN\n",
      "2017-01-29   NaN         NaN  NaN        NaN\n",
      "2017-01-30   NaN  120.135345  NaN        NaN\n",
      "2017-01-31   NaN  119.858795  NaN        NaN\n"
     ]
    }
   ],
   "source": [
    "dates = pd.date_range('2017-01-01', '2017-01-31')\n",
    "\n",
    "symbols = ['AAPL', 'MSFT', 'HCP']\n",
    "    \n",
    "df = get_data(symbols, dates)\n",
    "\n",
    "print df"
   ]
  },
  {
   "cell_type": "code",
   "execution_count": null,
   "metadata": {
    "collapsed": true
   },
   "outputs": [],
   "source": []
  },
  {
   "cell_type": "code",
   "execution_count": null,
   "metadata": {
    "collapsed": true
   },
   "outputs": [],
   "source": [
    "df[\"Open\"].plot()\n",
    "plt.show()"
   ]
  }
 ],
 "metadata": {
  "kernelspec": {
   "display_name": "Python 2",
   "language": "python",
   "name": "python2"
  },
  "language_info": {
   "codemirror_mode": {
    "name": "ipython",
    "version": 2
   },
   "file_extension": ".py",
   "mimetype": "text/x-python",
   "name": "python",
   "nbconvert_exporter": "python",
   "pygments_lexer": "ipython2",
   "version": "2.7.13"
  }
 },
 "nbformat": 4,
 "nbformat_minor": 2
}
