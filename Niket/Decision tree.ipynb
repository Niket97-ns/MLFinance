{
 "cells": [
  {
   "cell_type": "code",
   "execution_count": 40,
   "metadata": {
    "collapsed": true
   },
   "outputs": [],
   "source": [
    "from pandas_datareader import data\n",
    "import matplotlib.pyplot as plt\n",
    "import pandas as pd\n",
    "import numpy as np\n",
    "from sklearn.tree import DecisionTreeRegressor\n",
    "from sklearn.ensemble import AdaBoostRegressor\n",
    "from sklearn.metrics import mean_squared_error,r2_score\n",
    "from math import sqrt\n",
    "\n",
    "\n",
    "\n",
    "def getDataYahoo(symbols,start_date,end_date,paraCol):\n",
    "    data_source=\"yahoo\"\n",
    "    panel_data = data.DataReader(symbols, data_source, start_date, end_date)\n",
    "    df_tmp = panel_data[str(paraCol)]\n",
    "    all_weekdays = pd.date_range(start=start_date, end=end_date, freq='B')\n",
    "    df_tmp = df_tmp.reindex(all_weekdays)\n",
    "    df_clean = dataCleaning(df_tmp)\n",
    "    return df_clean\n",
    "    \n",
    "    \n",
    "def dataCleaning(df):\n",
    "    df_tmp = df.fillna(method=\"ffill\")\n",
    "    df_clean = df_tmp.fillna(method=\"bfill\")\n",
    "    return df_clean\n",
    "    \n",
    "def getDataCSV(symbol):\n",
    "    return pd.read_csv(\"data/{}.csv\".format(str(symbol)), header =0, usecols=['Date','Close'],index_col=['Date'])\n",
    "\n",
    "def plotData(df,title=\"\",x=\"\",y=\"\"):\n",
    "    ax = df.plot(title=title)\n",
    "    ax.set_xlabel(x)\n",
    "    ax.set_ylabel(y)\n",
    "    plt.show()\n",
    "    \n",
    "def plotHistData(df,title=\"\",x=\"\",y=\"\",b=20,mean=999,std=999):\n",
    "    ax = df.hist(bins=b)\n",
    "    ax.set_title = title\n",
    "    ax.set_xlabel(x)\n",
    "    ax.set_ylabel(y)\n",
    "    if (mean != 999) and (std != 999) :\n",
    "        plt.axvline(mean,color=\"y\",linestyle=\"dashed\",linewidth=2)\n",
    "        plt.axvline(std,color=\"r\",linestyle=\"dashed\",linewidth=2)\n",
    "        plt.axvline(-std,color=\"r\",linestyle=\"dashed\",linewidth=2)\n",
    "    plt.show()\n",
    "    \n",
    "def plotHistDataMulti(df,tickers,title=\"\",x=\"\",y=\"\",b=20,mean=999,std=999):\n",
    "    for symbol in tickers:\n",
    "        df[str(symbol)].hist(bins=20, label=str(symbol))\n",
    "    plt.legend(loc='upper right')\n",
    "    plt.show()\n",
    "    \n",
    "def dailyReturns(df):\n",
    "    dr = df.copy()\n",
    "    dr[1:] = (dr[1:] / dr[:-1].values) - 1\n",
    "    dr.iloc[0] = 0\n",
    "    #dr.iloc[0,:] = 0\n",
    "    return dr\n",
    "\n",
    "def dailyReturnsMulti(df):\n",
    "    dr = df.copy()\n",
    "    dr[1:] = (dr[1:] / dr[:-1].values) - 1\n",
    "    #dr.iloc[0] = 0\n",
    "    dr.iloc[0,:] = 0\n",
    "    return dr\n",
    "    \n",
    "def plotScatterMulti(df,x=\"\",y=\"\",polyDegree=1):\n",
    "    global beta,alpha\n",
    "    df.plot(kind='scatter',x=str(x),y=str(y))\n",
    "    beta,alpha = np.polyfit(df[str(x)],df[str(y)],polyDegree) \n",
    "    plt.plot(df[str(x)], beta*df[str(x)] + alpha,'-', color='r')\n",
    "    plt.show()\n",
    "    \n",
    "def predictor(X):\n",
    "    Y = beta*X + alpha\n",
    "    return Y\n",
    "\n",
    "\n"
   ]
  },
  {
   "cell_type": "code",
   "execution_count": 67,
   "metadata": {
    "collapsed": true
   },
   "outputs": [],
   "source": [
    "google = getDataYahoo(\"GOOG\",'2016-10-01','2017-01-01',\"Adj Close\")\n",
    "market = getDataYahoo(\"SPY\",'2016-10-01','2017-01-01',\"Adj Close\")\n",
    "test_SPY = getDataYahoo(\"SPY\",'2017-01-02','2017-03-01',\"Adj Close\")\n",
    "test_GOOG = getDataYahoo(\"GOOG\",'2017-01-02','2017-03-01',\"Adj Close\")\n",
    "newDummy = getDataYahoo([\"SPY\",\"GOOG\"],'2017-01-01','2017-01-15',\"Adj Close\")\n",
    "g = google.as_matrix()\n",
    "m = market.as_matrix()\n",
    "t_s = test_SPY.as_matrix()\n",
    "t_g = test_GOOG.as_matrix()\n",
    "true_g = newDummy.as_matrix()\n",
    "\n",
    "\n"
   ]
  },
  {
   "cell_type": "code",
   "execution_count": 68,
   "metadata": {},
   "outputs": [
    {
     "data": {
      "text/plain": [
       "<matplotlib.figure.Figure at 0x1a1fdf66d0>"
      ]
     },
     "metadata": {},
     "output_type": "display_data"
    },
    {
     "data": {
      "image/png": "[encoded data removed]",
      "text/plain": [
       "<matplotlib.figure.Figure at 0x1a20257b90>"
      ]
     },
     "metadata": {},
     "output_type": "display_data"
    }
   ],
   "source": [
    "# Fit regression model\n",
    "plt.figure(figsize=(50,10))\n",
    "regr_1 = DecisionTreeRegressor(max_depth=2)\n",
    "regr_2 = DecisionTreeRegressor(max_depth=5)\n",
    "regr_1.fit(m[:, np.newaxis], g[:, np.newaxis])\n",
    "regr_2.fit(m[:, np.newaxis], g[:, np.newaxis])\n",
    "\n",
    "# Predict\n",
    "\n",
    "y_1 = regr_1.predict(t_s[:, np.newaxis])\n",
    "y_2 = regr_2.predict(t_s[:, np.newaxis])\n",
    "\n",
    "\n",
    "# Plot the results\n",
    "plt.figure()\n",
    "plt.scatter(m[:, np.newaxis], g[:, np.newaxis], s=20, edgecolor=\"black\",\n",
    "            c=\"darkorange\", label=\"data\")\n",
    "plt.plot(t_s[:, np.newaxis], y_1, color=\"cornflowerblue\",\n",
    "         label=\"max_depth=2\", linewidth=2)\n",
    "plt.plot(t_s[:, np.newaxis], y_2, color=\"yellowgreen\", label=\"max_depth=5\", linewidth=2)\n",
    "plt.xlabel(\"data\")\n",
    "plt.ylabel(\"target\")\n",
    "plt.title(\"Decision Tree Regression\")\n",
    "plt.legend()\n",
    "plt.show()\n",
    "\n",
    "\n"
   ]
  },
  {
   "cell_type": "code",
   "execution_count": 69,
   "metadata": {},
   "outputs": [
    {
     "data": {
      "image/png": "[encoded data removed]",
      "text/plain": [
       "<matplotlib.figure.Figure at 0x1a203a6ad0>"
      ]
     },
     "metadata": {},
     "output_type": "display_data"
    }
   ],
   "source": [
    "# Fit regression model\n",
    "regr_1_boost = AdaBoostRegressor(DecisionTreeRegressor(max_depth=10),\n",
    "                          n_estimators=1000, random_state=None)\n",
    "\n",
    "regr_1_boost.fit(m[:, np.newaxis], g[:, np.newaxis])\n",
    "\n",
    "# Predict\n",
    "y_1_boost = regr_1_boost.predict(t_s[:, np.newaxis])\n",
    "\n",
    "# Plot the results\n",
    "plt.figure()\n",
    "plt.scatter(m[:, np.newaxis], g[:, np.newaxis], c=\"k\", label=\"training samples\")\n",
    "plt.plot(t_s[:, np.newaxis], y_1_boost, c=\"g\", label=\"n_estimators=100\", linewidth=2)\n",
    "\n",
    "plt.xlabel(\"data\")\n",
    "plt.ylabel(\"target\")\n",
    "plt.title(\"Boosted Decision Tree Regression\")\n",
    "plt.legend()\n",
    "plt.show()"
   ]
  },
  {
   "cell_type": "code",
   "execution_count": 70,
   "metadata": {},
   "outputs": [
    {
     "name": "stdout",
     "output_type": "stream",
     "text": [
      "[ 791.26001   791.26001   794.559998  794.559998  794.559998  794.559998\n",
      "  794.559998  794.559998  794.559998  794.559998  794.559998  794.200012\n",
      "  794.559998  791.549988  794.559998  794.200012  794.559998  794.559998\n",
      "  794.559998  794.559998  794.559998  794.559998  794.559998  794.559998\n",
      "  794.559998  794.559998  794.559998  794.559998  794.559998  794.559998\n",
      "  794.559998  794.559998  794.559998  794.559998  794.559998  794.559998\n",
      "  794.559998  794.559998  794.559998  794.559998  794.559998  794.559998\n",
      "  794.559998]\n"
     ]
    }
   ],
   "source": [
    "print (y_1_boost)"
   ]
  },
  {
   "cell_type": "code",
   "execution_count": 71,
   "metadata": {},
   "outputs": [
    {
     "name": "stdout",
     "output_type": "stream",
     "text": [
      "[ 786.140015  786.140015  786.900024  794.02002   806.150024  806.650024\n",
      "  804.789978  807.909973  806.359985  807.880005  807.880005  804.609985\n",
      "  806.070007  802.174988  805.02002   819.309998  823.869995  835.669983\n",
      "  832.150024  823.309998  802.320007  796.789978  795.695007  798.530029\n",
      "  801.48999   801.340027  806.969971  808.380005  809.559998  813.669983\n",
      "  819.23999   820.450012  818.97998   824.159973  828.070007  828.070007\n",
      "  831.659973  830.76001   831.330017  828.640015  829.280029  823.210022\n",
      "  835.23999 ]\n"
     ]
    }
   ],
   "source": [
    "print(t_g)"
   ]
  },
  {
   "cell_type": "code",
   "execution_count": 72,
   "metadata": {},
   "outputs": [
    {
     "name": "stdout",
     "output_type": "stream",
     "text": [
      "-1.6764811992\n"
     ]
    }
   ],
   "source": [
    "print regr_1_boost.score(t_s[:,np.newaxis],t_g[:,np.newaxis])"
   ]
  },
  {
   "cell_type": "code",
   "execution_count": 73,
   "metadata": {},
   "outputs": [
    {
     "name": "stdout",
     "output_type": "stream",
     "text": [
      "22.6406948736\n"
     ]
    }
   ],
   "source": [
    "print sqrt(mean_squared_error(t_g, y_1_boost))"
   ]
  },
  {
   "cell_type": "code",
   "execution_count": null,
   "metadata": {
    "collapsed": true
   },
   "outputs": [],
   "source": []
  }
 ],
 "metadata": {
  "kernelspec": {
   "display_name": "Python 2",
   "language": "python",
   "name": "python2"
  },
  "language_info": {
   "codemirror_mode": {
    "name": "ipython",
    "version": 2
   },
   "file_extension": ".py",
   "mimetype": "text/x-python",
   "name": "python",
   "nbconvert_exporter": "python",
   "pygments_lexer": "ipython2",
   "version": "2.7.13"
  }
 },
 "nbformat": 4,
 "nbformat_minor": 2
}
